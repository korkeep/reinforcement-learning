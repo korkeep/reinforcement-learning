{
 "cells": [
  {
   "cell_type": "markdown",
   "metadata": {},
   "source": [
    "# Soft Actor Critic"
   ]
  },
  {
   "cell_type": "code",
   "execution_count": 1,
   "metadata": {},
   "outputs": [],
   "source": [
    "import copy\n",
    "import collections\n",
    "import random\n",
    "import numpy as np\n",
    "\n",
    "import torch\n",
    "import torch.nn as nn\n",
    "import torch.nn.functional as F\n",
    "import torch.optim as optim\n",
    "from torch.distributions import Normal # 정규분포 샘플링\n",
    "\n",
    "import gymnasium as gym\n",
    "\n",
    "import matplotlib.pyplot as plt\n",
    "from IPython import display\n",
    "from IPython.display import clear_output\n",
    "\n",
    "import tqdm"
   ]
  },
  {
   "cell_type": "code",
   "execution_count": 2,
   "metadata": {},
   "outputs": [],
   "source": [
    "# Replay buffer, Off-Policy: 다른 정책이 수집한 데이터를 기반으로 학습을 통해 정책 강화\n",
    "class ReplayBuffer():\n",
    "    def __init__(self, maxlen=100000):\n",
    "        self.buffer = collections.deque(maxlen=maxlen)\n",
    "\n",
    "    def put(self, transition):\n",
    "        self.buffer.append(transition)\n",
    "\n",
    "    def sample(self, n=128):\n",
    "        mini_batch = random.sample(self.buffer, n)\n",
    "        s_lst, a_lst, r_lst, s_prime_lst, done_mask_lst = [], [], [], [], []\n",
    "\n",
    "        for transition in mini_batch:\n",
    "            s, a, r, s_prime, done_mask = transition\n",
    "            s_lst.append(s)\n",
    "            a_lst.append(a)\n",
    "            r_lst.append([r])\n",
    "            s_prime_lst.append(s_prime)\n",
    "            done_mask_lst.append([done_mask])\n",
    "\n",
    "        return torch.tensor(np.array(s_lst), dtype=torch.float), \\\n",
    "               torch.tensor(np.array(a_lst), dtype=torch.float), \\\n",
    "               torch.tensor(np.array(r_lst), dtype=torch.float), \\\n",
    "               torch.tensor(np.array(s_prime_lst), dtype=torch.float), \\\n",
    "               torch.tensor(np.array(done_mask_lst), dtype=torch.float)\n",
    "\n",
    "    def size(self):\n",
    "        return len(self.buffer)"
   ]
  },
  {
   "cell_type": "code",
   "execution_count": 3,
   "metadata": {},
   "outputs": [],
   "source": [
    "class Actor(nn.Module):\n",
    "    def __init__(self):\n",
    "        super().__init__()\n",
    "\n",
    "        self.std_min = -20\n",
    "        self.std_max = 2\n",
    "\n",
    "        # set the hidden layers\n",
    "        self.hidden1 = nn.Linear(3, 128)\n",
    "        self.hidden2 = nn.Linear(128, 128)\n",
    "\n",
    "        # set log_std layer\n",
    "        self.log_std_layer = nn.Linear(128, 1)\n",
    "\n",
    "        # set mean layer\n",
    "        self.mu_layer = nn.Linear(128, 1)\n",
    "\n",
    "    def forward(self, state):\n",
    "        x = F.relu(self.hidden1(state))\n",
    "        x = F.relu(self.hidden2(x))\n",
    "\n",
    "        # get mean\n",
    "        mu = self.mu_layer(x).tanh()\n",
    "\n",
    "        # get std\n",
    "        log_std = self.log_std_layer(x).tanh()\n",
    "        log_std = self.std_min + 0.5 * (self.std_max - self.std_min) * (log_std + 1)\n",
    "        std = torch.exp(log_std)\n",
    "\n",
    "        # sample actions\n",
    "        dist = Normal(mu, std)\n",
    "        z = dist.rsample()\n",
    "\n",
    "        # normalize action and log_prob\n",
    "        action = z.tanh()\n",
    "        log_prob = dist.log_prob(z) - torch.log(1 - action.pow(2) + 1e-7)\n",
    "        log_prob = log_prob.sum(-1, keepdim=True)\n",
    "\n",
    "        return action, log_prob"
   ]
  },
  {
   "cell_type": "code",
   "execution_count": 4,
   "metadata": {},
   "outputs": [],
   "source": [
    "# CriticQ: 액션가치함수, 상태 s에서 액션을 선택하여 기대되는 Return 예측\n",
    "class CriticQ(nn.Module):\n",
    "    def __init__(self):\n",
    "        super().__init__()\n",
    "\n",
    "        self.hidden1 = nn.Linear(3 + 1, 128)\n",
    "        self.hidden2 = nn.Linear(128, 128)\n",
    "        self.out = nn.Linear(128, 1)\n",
    "\n",
    "    def forward(self, state, action):\n",
    "        x = torch.cat((state, action), dim=-1)\n",
    "        x = F.relu(self.hidden1(x))\n",
    "        x = F.relu(self.hidden2(x))\n",
    "        value = self.out(x)\n",
    "\n",
    "        return value"
   ]
  },
  {
   "cell_type": "code",
   "execution_count": 5,
   "metadata": {},
   "outputs": [],
   "source": [
    "# CriticV: 상태가치함수, 현재 상태가 얻을 Return 예측\n",
    "class CriticV(nn.Module):\n",
    "    def __init__(self):\n",
    "        super().__init__()\n",
    "\n",
    "        self.hidden1 = nn.Linear(3, 128)\n",
    "        self.hidden2 = nn.Linear(128, 128)\n",
    "        self.out = nn.Linear(128, 1)\n",
    "\n",
    "    def forward(self, state):\n",
    "        x = F.relu(self.hidden1(state))\n",
    "        x = F.relu(self.hidden2(x))\n",
    "        value = self.out(x)\n",
    "\n",
    "        return value"
   ]
  },
  {
   "cell_type": "code",
   "execution_count": 6,
   "metadata": {},
   "outputs": [],
   "source": [
    "# 액션 space가 [-1, 1] 사이가 아닌 경우 필요\n",
    "class ActionNormalizer(gym.ActionWrapper):\n",
    "    \"\"\"Rescale and relocate the actions.\"\"\"\n",
    "\n",
    "    def action(self, action: np.ndarray) -> np.ndarray:\n",
    "        \"\"\"Change the range (-1, 1) to (low, high).\"\"\"\n",
    "        low = self.action_space.low\n",
    "        high = self.action_space.high\n",
    "\n",
    "        scale_factor = (high - low) / 2\n",
    "        reloc_factor = high - scale_factor\n",
    "\n",
    "        action = action * scale_factor + reloc_factor\n",
    "        action = np.clip(action, low, high)\n",
    "\n",
    "        return action\n",
    "\n",
    "    def reverse_action(self, action: np.ndarray) -> np.ndarray:\n",
    "        \"\"\"Change the range (low, high) to (-1, 1).\"\"\"\n",
    "        low = self.action_space.low\n",
    "        high = self.action_space.high\n",
    "\n",
    "        scale_factor = (high - low) / 2\n",
    "        reloc_factor = high - scale_factor\n",
    "\n",
    "        action = (action - reloc_factor) / scale_factor\n",
    "        action = np.clip(action, -1.0, 1.0)\n",
    "\n",
    "        return action"
   ]
  },
  {
   "cell_type": "code",
   "execution_count": 7,
   "metadata": {},
   "outputs": [],
   "source": [
    "class SAC:\n",
    "    def __init__(self):\n",
    "        self.tau = 5e-3\n",
    "\n",
    "        # automatic entropy tuning\n",
    "        self.target_entropy = -1\n",
    "        self.log_alpha = torch.zeros(1, requires_grad=True)\n",
    "\n",
    "        # actor\n",
    "        self.actor = Actor()\n",
    "        # v function: 상태가치함수\n",
    "        self.critic_v = CriticV() # Behavior\n",
    "        self.critic_v_target = CriticV() # Target\n",
    "        self.critic_v_target.load_state_dict(self.critic_v.state_dict())\n",
    "        # q function: 액션가치함수\n",
    "        self.critic_q1 = CriticQ()\n",
    "        self.critic_q2 = CriticQ()\n",
    "\n",
    "    def select_action(self, state):\n",
    "        selected_action = self.actor(torch.from_numpy(state).float())[0].detach().cpu().numpy()\n",
    "        return selected_action\n",
    "\n",
    "    def soft_update(self):\n",
    "        for t_param, l_param in zip(self.critic_v_target.parameters(), self.critic_v.parameters()):\n",
    "            t_param.data.copy_(self.tau * l_param.data + (1.0 - self.tau) * t_param.data)"
   ]
  },
  {
   "cell_type": "code",
   "execution_count": 8,
   "metadata": {},
   "outputs": [],
   "source": [
    "sac = SAC()\n",
    "memory = ReplayBuffer()"
   ]
  },
  {
   "cell_type": "code",
   "execution_count": 9,
   "metadata": {},
   "outputs": [],
   "source": [
    "OptimDic = collections.namedtuple('OptimDic', ['alpha_optim',\n",
    "                                               'actor_optim',\n",
    "                                               'critic_q1_optim',\n",
    "                                               'critic_q2_optim',\n",
    "                                               'critic_v_optim'])\n",
    "\n",
    "optim_dic = OptimDic(optim.Adam([sac.log_alpha], lr=3e-4),\n",
    "                     optim.Adam(sac.actor.parameters(), lr=3e-4),\n",
    "                     optim.Adam(sac.critic_q1.parameters(), lr=3e-4),\n",
    "                     optim.Adam(sac.critic_q2.parameters(), lr=3e-4),\n",
    "                     optim.Adam(sac.critic_v.parameters(), lr=3e-4))"
   ]
  },
  {
   "cell_type": "code",
   "execution_count": 10,
   "metadata": {},
   "outputs": [],
   "source": [
    "def train(sac, memory, optim_dic, gamma=0.99, train_actor=False):\n",
    "    state, action, reward, next_state, done_mask = memory.sample()\n",
    "    new_action, log_prob = sac.actor(state)\n",
    "\n",
    "    # Loss Function을 이용, 예측하는 값과의 차이 줄어들도록\n",
    "    # train alpha (dual problem)\n",
    "    alpha_loss = (-sac.log_alpha.exp() * (log_prob + sac.target_entropy).detach()).mean()\n",
    "    optim_dic.alpha_optim.zero_grad()\n",
    "    alpha_loss.backward()\n",
    "    optim_dic.alpha_optim.step()\n",
    "\n",
    "    alpha = sac.log_alpha.exp()  # used for the actor loss calculation\n",
    "\n",
    "    # q function loss\n",
    "    q1_pred = sac.critic_q1(state, action)\n",
    "    q2_pred = sac.critic_q2(state, action)\n",
    "    v_target = sac.critic_v_target(next_state)\n",
    "    q_target = reward + gamma * v_target * done_mask\n",
    "    q1_loss = F.mse_loss(q1_pred, q_target.detach())\n",
    "    q2_loss = F.mse_loss(q2_pred, q_target.detach())\n",
    "\n",
    "    # v function loss\n",
    "    v_pred = sac.critic_v(state)\n",
    "    q_pred = torch.min(sac.critic_q1(state, new_action), sac.critic_q2(state, new_action))\n",
    "    v_target = q_pred - alpha * log_prob\n",
    "    v_loss = F.mse_loss(v_pred, v_target.detach())\n",
    "\n",
    "    if train_actor:\n",
    "        # actor loss\n",
    "        advantage = q_pred - v_pred.detach()\n",
    "        actor_loss = (alpha * log_prob - advantage).mean()\n",
    "\n",
    "        # train actor\n",
    "        optim_dic.actor_optim.zero_grad()\n",
    "        actor_loss.backward()\n",
    "        optim_dic.actor_optim.step()\n",
    "\n",
    "        # target update\n",
    "        sac.soft_update()\n",
    "\n",
    "    # train Q\n",
    "    optim_dic.critic_q1_optim.zero_grad()\n",
    "    q1_loss.backward()\n",
    "    optim_dic.critic_q1_optim.step()\n",
    "\n",
    "    optim_dic.critic_q2_optim.zero_grad()\n",
    "    q2_loss.backward()\n",
    "    optim_dic.critic_q2_optim.step()\n",
    "\n",
    "    # train V\n",
    "    optim_dic.critic_v_optim.zero_grad()\n",
    "    v_loss.backward()\n",
    "    optim_dic.critic_v_optim.step()"
   ]
  },
  {
   "cell_type": "code",
   "execution_count": 11,
   "metadata": {},
   "outputs": [
    {
     "name": "stderr",
     "output_type": "stream",
     "text": [
      "\n",
      "ax: -0.16160, curr: -235.961543: 100%|█████████████████████████████████████████| 50000/50000 [03:17<00:00, 253.51it/s]"
     ]
    }
   ],
   "source": [
    "score = 0\n",
    "max_score = -99999999\n",
    "\n",
    "env = gym.make(\"Pendulum-v1\", render_mode=\"rgb_array\")\n",
    "env = ActionNormalizer(env)\n",
    "s, _ = env.reset()\n",
    "\n",
    "p_bar = tqdm.trange(50000)\n",
    "for i in p_bar:\n",
    "    if i < 9999: # 일정 주기 랜덤 샘플\n",
    "        a = env.action_space.sample()\n",
    "    else:\n",
    "        a = sac.select_action(s)\n",
    "    s_prime, r, done, oob, _ = env.step(a)\n",
    "    done_mask = 0.0 if (done or oob) else 1.0\n",
    "    memory.put((s, a, r/100.0, s_prime, done_mask))\n",
    "\n",
    "    s = s_prime\n",
    "    score += r\n",
    "\n",
    "    if done or oob:\n",
    "        s, _ = env.reset()\n",
    "        p_bar.set_description(f'max: {max_score:.5f}, curr: {score:5f}')\n",
    "        if score >= max_score: # 성능 개선이 있었으면\n",
    "            torch.save(sac.actor.state_dict(), 'sac_actor.pth')\n",
    "            max_score = score\n",
    "        score = 0.0\n",
    "\n",
    "    if i >= 9999:\n",
    "        train(sac, memory, optim_dic, train_actor=(i % 3 == 0))\n",
    "\n",
    "p_bar.close()\n",
    "env.close()"
   ]
  },
  {
   "cell_type": "code",
   "execution_count": 12,
   "metadata": {},
   "outputs": [
    {
     "data": {
      "text/plain": [
       "<All keys matched successfully>"
      ]
     },
     "execution_count": 12,
     "metadata": {},
     "output_type": "execute_result"
    }
   ],
   "source": [
    "sac = SAC()\n",
    "sac.actor.load_state_dict(torch.load('sac_actor.pth'))"
   ]
  },
  {
   "cell_type": "code",
   "execution_count": 13,
   "metadata": {},
   "outputs": [
    {
     "name": "stdout",
     "output_type": "stream",
     "text": [
      "-121.5875835976862\n"
     ]
    },
    {
     "data": {
      "image/png": "[encoded data removed]",
      "text/plain": [
       "<Figure size 640x480 with 1 Axes>"
      ]
     },
     "metadata": {},
     "output_type": "display_data"
    }
   ],
   "source": [
    "env = gym.make(\"Pendulum-v1\", render_mode=\"rgb_array\")\n",
    "env = ActionNormalizer(env)\n",
    "\n",
    "s, _ = env.reset()\n",
    "img = plt.imshow(env.render())\n",
    "\n",
    "score = 0.0\n",
    "while True:\n",
    "    # display\n",
    "    img.set_data(env.render())\n",
    "    display.display(plt.gcf())\n",
    "    display.clear_output(wait=True)\n",
    "    \n",
    "    a = sac.select_action(s)  # noise 없음\n",
    "    s_prime, r, done, oob, info = env.step(a)\n",
    "    s = s_prime\n",
    "    \n",
    "    score += r\n",
    "    if done or oob:\n",
    "        break\n",
    "\n",
    "env.close()\n",
    "print(score)"
   ]
  },
  {
   "cell_type": "code",
   "execution_count": null,
   "metadata": {},
   "outputs": [],
   "source": []
  }
 ],
 "metadata": {
  "kernelspec": {
   "display_name": "Python 3 (ipykernel)",
   "language": "python",
   "name": "python3"
  },
  "language_info": {
   "codemirror_mode": {
    "name": "ipython",
    "version": 3
   },
   "file_extension": ".py",
   "mimetype": "text/x-python",
   "name": "python",
   "nbconvert_exporter": "python",
   "pygments_lexer": "ipython3",
   "version": "3.9.20"
  }
 },
 "nbformat": 4,
 "nbformat_minor": 4
}
